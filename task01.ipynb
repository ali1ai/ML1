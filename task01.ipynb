{
  "nbformat": 4,
  "nbformat_minor": 0,
  "metadata": {
    "colab": {
      "provenance": []
    },
    "kernelspec": {
      "name": "python3",
      "display_name": "Python 3"
    },
    "language_info": {
      "name": "python"
    }
  },
  "cells": [
    {
      "cell_type": "code",
      "execution_count": 2,
      "metadata": {
        "colab": {
          "base_uri": "https://localhost:8080/"
        },
        "id": "1aXe8QAXL2mQ",
        "outputId": "0d4315e7-d666-43b4-9d01-651573535c62"
      },
      "outputs": [
        {
          "output_type": "stream",
          "name": "stdout",
          "text": [
            "Enter URL of a Medium article: https://medium.com/data-science/top-12-skills-data-scientists-need-to-succeed-in-2025-c80f54cf227a\n",
            "paragraphs text = \n",
            " [<p class=\"be b dw dx dy dz ea eb ec ed ee ef dt\"><span><button class=\"be b dw dx eg dy dz eh ea eb ei ej ed ek el ef em eo ep eq er es et eu ev ew ex ey ez fa fb fc bl fd fe\" data-testid=\"headerSignUpButton\">Sign up</button></span></p>, <p class=\"be b dw dx dy dz ea eb ec ed ee ef dt\"><span><a class=\"af ag ah fg aj ak al am an ao ap aq ar as at\" data-testid=\"headerSignInButton\" href=\"/m/signin?operation=login&amp;redirect=https%3A%2F%2Fmedium.com%2Fdata-science%2Ftop-12-skills-data-scientists-need-to-succeed-in-2025-c80f54cf227a&amp;source=post_page---top_nav_layout_nav-----------------------global_nav------------------\" rel=\"noopener follow\">Sign in</a></span></p>, <p class=\"be b dw dx dy dz ea eb ec ed ee ef dt\"><span><button class=\"be b dw dx eg dy dz eh ea eb ei ej ed ek el ef em eo ep eq er es et eu ev ew ex ey ez fa fb fc bl fd fe\" data-testid=\"headerSignUpButton\">Sign up</button></span></p>, <p class=\"be b dw dx dy dz ea eb ec ed ee ef dt\"><span><a class=\"af ag ah fg aj ak al am an ao ap aq ar as at\" data-testid=\"headerSignInButton\" href=\"/m/signin?operation=login&amp;redirect=https%3A%2F%2Fmedium.com%2Fdata-science%2Ftop-12-skills-data-scientists-need-to-succeed-in-2025-c80f54cf227a&amp;source=post_page---top_nav_layout_nav-----------------------global_nav------------------\" rel=\"noopener follow\">Sign in</a></span></p>, <p class=\"be b gy gz bj\"></p>, <p class=\"be b bf z dt\"><span class=\"hn\">An archive of data science, data analytics, data engineering, machine learning, and artificial intelligence writing from the former Towards Data Science Medium publication.</span></p>, <p class=\"be b bf z bj\"></p>, <p class=\"be b bf z dt\">Member-only story</p>, <p class=\"be b du z dt\"><span class=\"ni\">--</span></p>, <p class=\"be b du z dt\"><span class=\"pw-responses-count nj ji\">35</span></p>, <p class=\"be b bf z dt\">Share</p>, <p class=\"pg ph ir be pi pj pk pl pm pn po pp dt\" id=\"b594\">The AI landscape is moving faster than a rocket ship in 2025, and hanging on is getting harder and harder!</p>, <p class=\"pg ph ir be pi pj pq pr ps pt pu pp dt\" id=\"4101\">Will you keep your current position, get hired, get promoted or get sacked? That depends on YOU and how fast you can adapt to change.</p>, <p class=\"py pz qa qb b jl qc qd qe jo qf qg qh gn qi qj qk gq ql qm qn gt qo qp qq pp hn bj\" id=\"2660\">This isn’t to say that if you don’t adapt — you will perish.</p>, <p class=\"pw-post-body-paragraph py pz ir qb b jl qr qd qe jo qs qg qh gn qt qj qk gq qu qm qn gt qv qp qq pp hn bj\" id=\"87ab\">Many things are changing, but other things are not. Understanding which changes require your attention is the <strong class=\"qb is\">key to success</strong>.</p>, <p class=\"pw-post-body-paragraph py pz ir qb b jl qr qd qe jo qs qg qh gn qt qj qk gq qu qm qn gt qv qp qq pp hn bj\" id=\"d3f7\">Yes, the new AI revolution is proliferating in huge sections of the economy, with a ton of new tools to boost productivity and automate many tasks. And if you were overwhelmed last year, better <strong class=\"qb is\">buckle in for another wild ride</strong>.</p>, <p class=\"py pz qa qb b jl qr qd qe jo qs qg qh gn qt qj qk gq qu qm qn gt qv qp qq pp hn bj\" id=\"28f6\">So, how should you handle this always-accelerating train of AI hype and tools?</p>, <p class=\"pg ph ir be pi pj pk pl pm pn po pp dt\" id=\"a652\">By focusing on what matters.</p>, <p class=\"pw-post-body-paragraph py pz ir qb b jl qc qd qe jo qf qg qh gn qi qj qk gq ql qm qn gt qo qp qq pp hn bj\" id=\"2b2b\">Although AI tools are super shiny and powerful, many of the skills that will really help you succeed in your career <strong class=\"qb is\">haven’t changed too much</strong> for the past few decades and even for several…</p>, <p class=\"be b du z dt\"><span class=\"ni\">--</span></p>, <p class=\"be b du z dt\"><span class=\"ni\">--</span></p>, <p class=\"be b bf z dt\"><span class=\"pw-responses-count nj ji\">35</span></p>, <p class=\"be b bf z bj\"><span class=\"hn\">An archive of data science, data analytics, data engineering, machine learning, and artificial intelligence writing from the former Towards Data Science Medium publication.</span></p>, <p class=\"be b bf z bj\"><span class=\"hn\">Computer Vision Team Leader | Deep Learning | Data Science | Regular Science</span></p>, <p class=\"be b du z dt\">Help</p>, <p class=\"be b du z dt\">Status</p>, <p class=\"be b du z dt\">About</p>, <p class=\"be b du z dt\">Careers</p>, <p class=\"be b du z dt\">Press</p>, <p class=\"be b du z dt\">Blog</p>, <p class=\"be b du z dt\">Privacy</p>, <p class=\"be b du z dt\">Rules</p>, <p class=\"be b du z dt\">Terms</p>, <p class=\"be b du z dt\">Text to speech</p>]\n",
            "top-12-skills-data-scientists-need-to-succeed-in-2025-c80f54cf227a\n",
            "File saved in directory scraped_articles/top-12-skills-data-scientists-need-to-succeed-in-2025-c80f54cf227a.txt\n"
          ]
        }
      ],
      "source": [
        "# Python script to scrape an article given the url of the article and store the extracted text in a file\n",
        "# Url: https://medium.com/@subashgandyer/papa-what-is-a-neural-network-c5e5cc427c7\n",
        "\n",
        "import os\n",
        "import requests\n",
        "import re\n",
        "import sys\n",
        "# Code here - Import BeautifulSoup library\n",
        "from bs4 import BeautifulSoup\n",
        "# Code ends here\n",
        "\n",
        "# function to get the html source text of the medium article\n",
        "def get_page():\n",
        "\tglobal url\n",
        "\n",
        "\t# Code here - Ask the user to input \"Enter url of a medium article: \" and collect it in url\n",
        "\turl = input(\"Enter URL of a Medium article: \")\n",
        "\t# Code ends here\n",
        "\n",
        "\t# handling possible error\n",
        "\tif not re.match(r'https?://medium.com/',url):\n",
        "\t\tprint('Please enter a valid website, or make sure it is a medium article')\n",
        "\t\tsys.exit(1)\n",
        "\n",
        "\t# Code here - Call get method in requests object, pass url and collect it in res\n",
        "\tres = requests.get(url)\n",
        "\t# Code ends here\n",
        "\n",
        "\tres.raise_for_status()\n",
        "\tsoup = BeautifulSoup(res.text, 'html.parser')\n",
        "\treturn soup\n",
        "\n",
        "# function to remove all the html tags and replace some with specific strings\n",
        "def clean(text):\n",
        "    rep = {\"<br>\": \"\\n\", \"<br/>\": \"\\n\", \"<li>\":  \"\\n\"}\n",
        "    rep = dict((re.escape(k), v) for k, v in rep.items())\n",
        "    pattern = re.compile(\"|\".join(rep.keys()))\n",
        "    text = pattern.sub(lambda m: rep[re.escape(m.group(0))], text)\n",
        "    text = re.sub(r'\\<(.*?)\\>', '', text)\n",
        "    return text\n",
        "\n",
        "\n",
        "def collect_text(soup):\n",
        "\ttext = f'url: {url}\\n\\n'\n",
        "\tpara_text = soup.find_all('p')\n",
        "\tprint(f\"paragraphs text = \\n {para_text}\")\n",
        "\tfor para in para_text:\n",
        "\t\ttext += f\"{para.text}\\n\\n\"\n",
        "\treturn text\n",
        "\n",
        "# function to save file in the current directory\n",
        "def save_file(text):\n",
        "\tif not os.path.exists('./scraped_articles'):\n",
        "\t\tos.mkdir('./scraped_articles')\n",
        "\tname = url.split(\"/\")[-1]\n",
        "\tprint(name)\n",
        "\tfname = f'scraped_articles/{name}.txt'\n",
        "\n",
        "\t# Code here - write a file using with (2 lines)\n",
        "\twith open(fname, \"w\", encoding=\"utf-8\") as file:\n",
        "            file.write(text)\n",
        "\t# Code ends here\n",
        "\n",
        "\tprint(f'File saved in directory {fname}')\n",
        "\n",
        "\n",
        "if __name__ == '__main__':\n",
        "\ttext = collect_text(get_page())\n",
        "\tsave_file(text)\n",
        "\t# Instructions to Run this python code\n",
        "\t# Give url as https://medium.com/@subashgandyer/papa-what-is-a-neural-network-c5e5cc427c7"
      ]
    },
    {
      "cell_type": "code",
      "source": [],
      "metadata": {
        "id": "AUnazYfyL403"
      },
      "execution_count": null,
      "outputs": []
    }
  ]
}